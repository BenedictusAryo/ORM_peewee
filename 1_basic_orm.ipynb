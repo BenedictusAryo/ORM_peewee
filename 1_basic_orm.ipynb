{
 "cells": [
  {
   "cell_type": "markdown",
   "metadata": {},
   "source": [
    "# ORM using Peewee\n",
    "\n",
    "ORM (Object Relational Mapper)  is a technique used in creating a \"bridge\" between object-oriented programs and, in most cases, relational databases.\n",
    "\n",
    "Put another way, you can see the ORM as the layer that connects object oriented programming (OOP) to relational databases.\n",
    "\n",
    "When interacting with a database using OOP languages, you'll have to perform different operations like creating, reading, updating, and deleting (CRUD) data from a database. By design, you use SQL for performing these operations in relational databases.\n",
    "\n",
    "Class as defined in an Object Oriented (OO) programming language such as Python, is considered as non-scalar. It cannot be expressed as primitive types such as integers and strings.\n",
    "\n",
    "On the other hand, databases like Oracle, MySQL, SQLite and others can only store and manipulate scalar values such as integers and strings organised within tables.\n",
    "\n",
    "The programmer must either convert the object values into groups of scalar data types for storage in the database or convert them back upon retrieval, or only use simple scalar values within the program.\n",
    "\n",
    "In an ORM system, each class maps to a table in the underlying database. Instead of writing tedious database interfacing code yourself, an ORM takes care of these issues, while you can focus on programming the logics of the system.\n",
    "\n",
    "## Peewee\n",
    "\n",
    "Peewee is a simple and small ORM. It has few (but expressive) concepts, making it easy to learn and intuitive to use.\n",
    "\n",
    "* a small, expressive ORM\n",
    "* python 2.7+ and 3.4+ (developed with 3.6)\n",
    "* supports **sqlite**, **mysql**, **postgresql** and **cockroachdb**\n",
    "* tons of extensions\n",
    "\n",
    "\n",
    "**To Install:**\n",
    "\n",
    "```python\n",
    "pip install peewee\n",
    "```"
   ]
  },
  {
   "cell_type": "code",
   "execution_count": 1,
   "metadata": {},
   "outputs": [],
   "source": [
    "# Import Library\n",
    "from peewee import (\n",
    "    SqliteDatabase, \n",
    "    Model, \n",
    "    TextField,\n",
    "    IntegerField)\n",
    "import pandas as pd\n",
    "import sqlite3\n",
    "\n",
    "# Cleanup Database if exists\n",
    "from pathlib import Path \n",
    "Path('database/sample_sqlite.db').unlink(missing_ok=True)"
   ]
  },
  {
   "cell_type": "markdown",
   "metadata": {},
   "source": [
    "## Database\n",
    "The Peewee `Database` object represents a connection to a database. The `Database` class is instantiated with all the information needed to open a connection to a database, and then can be used to:\n",
    "\n",
    "* Open and close connections.\n",
    "* Execute queries.\n",
    "* Manage transactions (and savepoints).\n",
    "* Introspect tables, columns, indexes, and constraints.\n",
    "\n",
    "Peewee comes with support for SQLite, MySQL and Postgres. Each database class provides some basic, database-specific configuration options."
   ]
  },
  {
   "cell_type": "code",
   "execution_count": 2,
   "metadata": {},
   "outputs": [
    {
     "data": {
      "text/plain": [
       "True"
      ]
     },
     "execution_count": 2,
     "metadata": {},
     "output_type": "execute_result"
    }
   ],
   "source": [
    "# Create Database via Peewee SqliteDatabase\n",
    "sqlite_db = SqliteDatabase('database/sample_sqlite.db')\n",
    "sqlite_db.connect()"
   ]
  },
  {
   "cell_type": "markdown",
   "metadata": {},
   "source": [
    "## Create Table in SQLite\n",
    "\n",
    "An object of Model sub class in Peewee API corresponds to a table in the database with which connection has been established. It allows performing database table operations with the help of methods defined in the Model class.\n",
    "\n",
    "A user defined Model has one or more class attributes, each of them is an object of Field class. Peewee has a number of subclasses for holding data of different types. Examples are TextField, DatetimeField, etc. They correspond to the fields or columns in the database table. Reference of associated database and table and model configuration is mentioned in Meta class. Following attributes are used to specify configuration "
   ]
  },
  {
   "cell_type": "code",
   "execution_count": 3,
   "metadata": {},
   "outputs": [],
   "source": [
    "# Create Model that represent table\n",
    "class Student(Model):\n",
    "    name = TextField()\n",
    "    age = IntegerField()\n",
    "    \n",
    "    class Meta:\n",
    "        database = sqlite_db\n",
    "        db_table = 'student'\n",
    "        \n",
    "# Create table using Model.create_table()\n",
    "Student.create_table()\n",
    "\n",
    "# This can also be done by using \n",
    "# sqlite_db.create_tables([Student])"
   ]
  },
  {
   "cell_type": "markdown",
   "metadata": {},
   "source": [
    "Check whether user table is created"
   ]
  },
  {
   "cell_type": "code",
   "execution_count": 4,
   "metadata": {},
   "outputs": [
    {
     "name": "stdout",
     "output_type": "stream",
     "text": [
      "student\n"
     ]
    }
   ],
   "source": [
    "# Check table in database\n",
    "!sqlite3 database/sample_sqlite.db .tables"
   ]
  },
  {
   "cell_type": "markdown",
   "metadata": {},
   "source": [
    "Get Column name from student table to compare with class name"
   ]
  },
  {
   "cell_type": "code",
   "execution_count": 5,
   "metadata": {},
   "outputs": [
    {
     "name": "stdout",
     "output_type": "stream",
     "text": [
      "0|id|INTEGER|1||1\n",
      "1|name|TEXT|1||0\n",
      "2|age|INTEGER|1||0\n"
     ]
    }
   ],
   "source": [
    "!sqlite3 database/sample_sqlite.db -cmd \"PRAGMA table_info(student);\" .exit"
   ]
  },
  {
   "cell_type": "markdown",
   "metadata": {},
   "source": [
    "Table student is created with same schema as Class Student\n",
    "\n",
    "\n",
    "<br>\n",
    "\n",
    "___\n",
    "\n",
    "## Table Insertion\n",
    "\n",
    "There are several method to insert new Rows to the table"
   ]
  },
  {
   "cell_type": "code",
   "execution_count": 6,
   "metadata": {},
   "outputs": [
    {
     "data": {
      "text/plain": [
       "<Student: 3>"
      ]
     },
     "execution_count": 6,
     "metadata": {},
     "output_type": "execute_result"
    }
   ],
   "source": [
    "# Insert new record using Object Creation with save() method\n",
    "row1 = Student(name='John', age=20)\n",
    "row1.save()\n",
    "\n",
    "# Insert new record using Model Object with insert() method and execute()\n",
    "row2 = Student.insert(name='Bob', age=22)\n",
    "row2.execute()\n",
    "\n",
    "# Insert new record using Model Object with create() method\n",
    "Student.create(name='Jane', age=21)"
   ]
  },
  {
   "cell_type": "markdown",
   "metadata": {},
   "source": [
    "### Bulk Inserts\n",
    "In order to use multiple rows at once in the table, Peewee provides two methods: **bulk_create** and **insert_many**."
   ]
  },
  {
   "cell_type": "code",
   "execution_count": 7,
   "metadata": {},
   "outputs": [],
   "source": [
    "# Bulk Insert using Model.bulk_create()\n",
    "a = Student(name='Alice', age=20)\n",
    "b = Student(name='Ben', age=26)\n",
    "Student.bulk_create([a, b])"
   ]
  },
  {
   "cell_type": "code",
   "execution_count": 8,
   "metadata": {},
   "outputs": [
    {
     "data": {
      "text/plain": [
       "7"
      ]
     },
     "execution_count": 8,
     "metadata": {},
     "output_type": "execute_result"
    }
   ],
   "source": [
    "# Bulk Insert using Model.insert_many()\n",
    "rows = [\n",
    "    {'name': 'Cindy', 'age': 25}, \n",
    "    {'name': 'David', 'age': 24}\n",
    "]\n",
    "Student.insert_many(rows).execute()"
   ]
  },
  {
   "cell_type": "markdown",
   "metadata": {},
   "source": [
    "You can check now that those rows are already inserted"
   ]
  },
  {
   "cell_type": "code",
   "execution_count": 9,
   "metadata": {},
   "outputs": [
    {
     "name": "stdout",
     "output_type": "stream",
     "text": [
      "id|name|age\n",
      "1|John|20\n",
      "2|Bob|22\n",
      "3|Jane|21\n",
      "4|Alice|20\n",
      "5|Ben|26\n",
      "6|Cindy|25\n",
      "7|David|24\n"
     ]
    }
   ],
   "source": [
    "!sqlite3 database/sample_sqlite.db \".headers on\" \"SELECT * FROM student;\""
   ]
  },
  {
   "cell_type": "markdown",
   "metadata": {},
   "source": [
    "## Query Data using Peewee ORM"
   ]
  },
  {
   "cell_type": "code",
   "execution_count": 10,
   "metadata": {},
   "outputs": [
    {
     "name": "stdout",
     "output_type": "stream",
     "text": [
      "Total Rows:  7\n"
     ]
    },
    {
     "data": {
      "text/plain": [
       "[(1, 'John', 20),\n",
       " (2, 'Bob', 22),\n",
       " (3, 'Jane', 21),\n",
       " (4, 'Alice', 20),\n",
       " (5, 'Ben', 26),\n",
       " (6, 'Cindy', 25),\n",
       " (7, 'David', 24)]"
      ]
     },
     "execution_count": 10,
     "metadata": {},
     "output_type": "execute_result"
    }
   ],
   "source": [
    "# Normal Query using default sqlite3\n",
    "conn = sqlite3.connect('database/sample_sqlite.db')\n",
    "query = conn.execute(\"SELECT * FROM student;\").fetchall()\n",
    "print('Total Rows: ', len(query))\n",
    "query"
   ]
  },
  {
   "cell_type": "code",
   "execution_count": 11,
   "metadata": {},
   "outputs": [
    {
     "name": "stdout",
     "output_type": "stream",
     "text": [
      "Total Rows:  7\n"
     ]
    },
    {
     "data": {
      "text/plain": [
       "[{'id': 1, 'name': 'John', 'age': 20},\n",
       " {'id': 2, 'name': 'Bob', 'age': 22},\n",
       " {'id': 3, 'name': 'Jane', 'age': 21},\n",
       " {'id': 4, 'name': 'Alice', 'age': 20},\n",
       " {'id': 5, 'name': 'Ben', 'age': 26},\n",
       " {'id': 6, 'name': 'Cindy', 'age': 25},\n",
       " {'id': 7, 'name': 'David', 'age': 24}]"
      ]
     },
     "execution_count": 11,
     "metadata": {},
     "output_type": "execute_result"
    }
   ],
   "source": [
    "# Query using Peewee ORM to Dictionary\n",
    "all_students = list(Student.select().dicts())\n",
    "print('Total Rows: ', len(all_students))\n",
    "all_students"
   ]
  },
  {
   "cell_type": "code",
   "execution_count": 12,
   "metadata": {},
   "outputs": [
    {
     "name": "stdout",
     "output_type": "stream",
     "text": [
      "Total Rows:  7\n"
     ]
    },
    {
     "data": {
      "text/plain": [
       "[Row(id=1, name='John', age=20),\n",
       " Row(id=2, name='Bob', age=22),\n",
       " Row(id=3, name='Jane', age=21),\n",
       " Row(id=4, name='Alice', age=20),\n",
       " Row(id=5, name='Ben', age=26),\n",
       " Row(id=6, name='Cindy', age=25),\n",
       " Row(id=7, name='David', age=24)]"
      ]
     },
     "execution_count": 12,
     "metadata": {},
     "output_type": "execute_result"
    }
   ],
   "source": [
    "# Query using Peewee ORM to NamedTuple\n",
    "all_students_tuple = list(Student.select().namedtuples())\n",
    "print('Total Rows: ', len(all_students_tuple))\n",
    "all_students_tuple"
   ]
  },
  {
   "cell_type": "code",
   "execution_count": 13,
   "metadata": {},
   "outputs": [
    {
     "name": "stdout",
     "output_type": "stream",
     "text": [
      "Total Rows:  7\n"
     ]
    },
    {
     "data": {
      "text/plain": [
       "[<Student: 1>,\n",
       " <Student: 2>,\n",
       " <Student: 3>,\n",
       " <Student: 4>,\n",
       " <Student: 5>,\n",
       " <Student: 6>,\n",
       " <Student: 7>]"
      ]
     },
     "execution_count": 13,
     "metadata": {},
     "output_type": "execute_result"
    }
   ],
   "source": [
    "# Query using Peewee ORM to object\n",
    "all_students_obj = list(Student.select())\n",
    "print('Total Rows: ', len(all_students_obj))\n",
    "all_students_obj"
   ]
  },
  {
   "cell_type": "code",
   "execution_count": 14,
   "metadata": {},
   "outputs": [
    {
     "name": "stdout",
     "output_type": "stream",
     "text": [
      "Name:  John\n",
      "Age:  20\n"
     ]
    }
   ],
   "source": [
    "# Inspection of object\n",
    "first_row = all_students_obj[0]\n",
    "print('Name: ', first_row.name)\n",
    "print('Age: ', first_row.age)"
   ]
  },
  {
   "cell_type": "markdown",
   "metadata": {},
   "source": [
    "## Select Filtering"
   ]
  },
  {
   "cell_type": "code",
   "execution_count": 15,
   "metadata": {},
   "outputs": [
    {
     "data": {
      "text/plain": [
       "[(2, 'Bob', 22), (5, 'Ben', 26), (6, 'Cindy', 25), (7, 'David', 24)]"
      ]
     },
     "execution_count": 15,
     "metadata": {},
     "output_type": "execute_result"
    }
   ],
   "source": [
    "# Query using SQL syntax\n",
    "conn = sqlite3.connect('database/sample_sqlite.db')\n",
    "query = conn.execute(\n",
    "    \"SELECT * FROM student WHERE age > 21;\"\n",
    ").fetchall()\n",
    "query"
   ]
  },
  {
   "cell_type": "code",
   "execution_count": 16,
   "metadata": {},
   "outputs": [
    {
     "data": {
      "text/plain": [
       "[{'id': 2, 'name': 'Bob', 'age': 22},\n",
       " {'id': 5, 'name': 'Ben', 'age': 26},\n",
       " {'id': 6, 'name': 'Cindy', 'age': 25},\n",
       " {'id': 7, 'name': 'David', 'age': 24}]"
      ]
     },
     "execution_count": 16,
     "metadata": {},
     "output_type": "execute_result"
    }
   ],
   "source": [
    "# Query using Peewee ORM\n",
    "orm_query = list(\n",
    "    Student.select().where(Student.age > 21).dicts()\n",
    ")\n",
    "orm_query"
   ]
  },
  {
   "cell_type": "code",
   "execution_count": 17,
   "metadata": {},
   "outputs": [
    {
     "data": {
      "text/html": [
       "<div>\n",
       "<style scoped>\n",
       "    .dataframe tbody tr th:only-of-type {\n",
       "        vertical-align: middle;\n",
       "    }\n",
       "\n",
       "    .dataframe tbody tr th {\n",
       "        vertical-align: top;\n",
       "    }\n",
       "\n",
       "    .dataframe thead th {\n",
       "        text-align: right;\n",
       "    }\n",
       "</style>\n",
       "<table border=\"1\" class=\"dataframe\">\n",
       "  <thead>\n",
       "    <tr style=\"text-align: right;\">\n",
       "      <th></th>\n",
       "      <th>id</th>\n",
       "      <th>name</th>\n",
       "      <th>age</th>\n",
       "    </tr>\n",
       "  </thead>\n",
       "  <tbody>\n",
       "    <tr>\n",
       "      <th>0</th>\n",
       "      <td>2</td>\n",
       "      <td>Bob</td>\n",
       "      <td>22</td>\n",
       "    </tr>\n",
       "    <tr>\n",
       "      <th>1</th>\n",
       "      <td>5</td>\n",
       "      <td>Ben</td>\n",
       "      <td>26</td>\n",
       "    </tr>\n",
       "    <tr>\n",
       "      <th>2</th>\n",
       "      <td>6</td>\n",
       "      <td>Cindy</td>\n",
       "      <td>25</td>\n",
       "    </tr>\n",
       "    <tr>\n",
       "      <th>3</th>\n",
       "      <td>7</td>\n",
       "      <td>David</td>\n",
       "      <td>24</td>\n",
       "    </tr>\n",
       "  </tbody>\n",
       "</table>\n",
       "</div>"
      ],
      "text/plain": [
       "   id   name  age\n",
       "0   2    Bob   22\n",
       "1   5    Ben   26\n",
       "2   6  Cindy   25\n",
       "3   7  David   24"
      ]
     },
     "execution_count": 17,
     "metadata": {},
     "output_type": "execute_result"
    }
   ],
   "source": [
    "# Convert to DataFrame\n",
    "df = pd.DataFrame(orm_query)\n",
    "df"
   ]
  },
  {
   "cell_type": "markdown",
   "metadata": {},
   "source": [
    "---"
   ]
  }
 ],
 "metadata": {
  "kernelspec": {
   "display_name": "Python 3.9.5 ('base')",
   "language": "python",
   "name": "python3"
  },
  "language_info": {
   "codemirror_mode": {
    "name": "ipython",
    "version": 3
   },
   "file_extension": ".py",
   "mimetype": "text/x-python",
   "name": "python",
   "nbconvert_exporter": "python",
   "pygments_lexer": "ipython3",
   "version": "3.9.5"
  },
  "orig_nbformat": 4,
  "vscode": {
   "interpreter": {
    "hash": "bbe054f82611da69a236c20d185807936886c22cfa3db0ebeb109fb4db8ace57"
   }
  }
 },
 "nbformat": 4,
 "nbformat_minor": 2
}
