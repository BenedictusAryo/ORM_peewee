{
 "cells": [
  {
   "cell_type": "markdown",
   "metadata": {},
   "source": [
    "# ORM using Peewee\n",
    "\n",
    "ORM (Object Relational Mapper)  is a technique used in creating a \"bridge\" between object-oriented programs and, in most cases, relational databases.\n",
    "\n",
    "Put another way, you can see the ORM as the layer that connects object oriented programming (OOP) to relational databases.\n",
    "\n",
    "When interacting with a database using OOP languages, you'll have to perform different operations like creating, reading, updating, and deleting (CRUD) data from a database. By design, you use SQL for performing these operations in relational databases.\n",
    "\n",
    "Class as defined in an Object Oriented (OO) programming language such as Python, is considered as non-scalar. It cannot be expressed as primitive types such as integers and strings.\n",
    "\n",
    "On the other hand, databases like Oracle, MySQL, SQLite and others can only store and manipulate scalar values such as integers and strings organised within tables.\n",
    "\n",
    "The programmer must either convert the object values into groups of scalar data types for storage in the database or convert them back upon retrieval, or only use simple scalar values within the program.\n",
    "\n",
    "In an ORM system, each class maps to a table in the underlying database. Instead of writing tedious database interfacing code yourself, an ORM takes care of these issues, while you can focus on programming the logics of the system.\n",
    "\n",
    "## Peewee\n",
    "\n",
    "Peewee is a simple and small ORM. It has few (but expressive) concepts, making it easy to learn and intuitive to use.\n",
    "\n",
    "* a small, expressive ORM\n",
    "* python 2.7+ and 3.4+ (developed with 3.6)\n",
    "* supports **sqlite**, **mysql**, **postgresql** and **cockroachdb**\n",
    "* tons of extensions"
   ]
  },
  {
   "cell_type": "code",
   "execution_count": 22,
   "metadata": {},
   "outputs": [],
   "source": [
    "# Import Library\n",
    "from peewee import (\n",
    "    SqliteDatabase, \n",
    "    Model, \n",
    "    TextField,\n",
    "    IntegerField,\n",
    "    DateTimeField)\n",
    "import pandas as pd\n",
    "import seaborn as sns\n",
    "\n",
    "# Cleanup Database if exists\n",
    "from pathlib import Path \n",
    "Path('database/sample_sqlite.db').unlink(missing_ok=True)"
   ]
  },
  {
   "cell_type": "markdown",
   "metadata": {},
   "source": [
    "## Database\n",
    "The Peewee `Database` object represents a connection to a database. The `Database` class is instantiated with all the information needed to open a connection to a database, and then can be used to:\n",
    "\n",
    "* Open and close connections.\n",
    "* Execute queries.\n",
    "* Manage transactions (and savepoints).\n",
    "* Introspect tables, columns, indexes, and constraints.\n",
    "\n",
    "Peewee comes with support for SQLite, MySQL and Postgres. Each database class provides some basic, database-specific configuration options."
   ]
  },
  {
   "cell_type": "code",
   "execution_count": 23,
   "metadata": {},
   "outputs": [
    {
     "data": {
      "text/plain": [
       "True"
      ]
     },
     "execution_count": 23,
     "metadata": {},
     "output_type": "execute_result"
    }
   ],
   "source": [
    "# Create Database via Peewee SqliteDatabase\n",
    "sqlite_db = SqliteDatabase('database/sample_sqlite.db')\n",
    "sqlite_db.connect()"
   ]
  },
  {
   "cell_type": "markdown",
   "metadata": {},
   "source": [
    "## Create Table in SQLite\n",
    "\n",
    "An object of Model sub class in Peewee API corresponds to a table in the database with which connection has been established. It allows performing database table operations with the help of methods defined in the Model class.\n",
    "\n",
    "A user defined Model has one or more class attributes, each of them is an object of Field class. Peewee has a number of subclasses for holding data of different types. Examples are TextField, DatetimeField, etc. They correspond to the fields or columns in the database table. Reference of associated database and table and model configuration is mentioned in Meta class. Following attributes are used to specify configuration "
   ]
  },
  {
   "cell_type": "code",
   "execution_count": 24,
   "metadata": {},
   "outputs": [],
   "source": [
    "# Create Model that represent table\n",
    "class Student(Model):\n",
    "    name = TextField()\n",
    "    age = IntegerField()\n",
    "    \n",
    "    class Meta:\n",
    "        database = sqlite_db\n",
    "        db_table = 'student'\n",
    "        \n",
    "# Create table using Model.create_table()\n",
    "Student.create_table()\n",
    "\n",
    "# This can also be done by using \n",
    "# sqlite_db.create_tables([Student])"
   ]
  },
  {
   "cell_type": "markdown",
   "metadata": {},
   "source": [
    "Check whether user table is created"
   ]
  },
  {
   "cell_type": "code",
   "execution_count": 4,
   "metadata": {},
   "outputs": [
    {
     "name": "stdout",
     "output_type": "stream",
     "text": [
      "student\n"
     ]
    }
   ],
   "source": [
    "# Check table in database\n",
    "!sqlite3 database/sample_sqlite.db .tables"
   ]
  },
  {
   "cell_type": "markdown",
   "metadata": {},
   "source": [
    "Get Column name from student table to compare with class name"
   ]
  },
  {
   "cell_type": "code",
   "execution_count": 5,
   "metadata": {},
   "outputs": [
    {
     "name": "stdout",
     "output_type": "stream",
     "text": [
      "0|id|INTEGER|1||1\n",
      "1|name|TEXT|1||0\n",
      "2|age|INTEGER|1||0\n"
     ]
    }
   ],
   "source": [
    "!sqlite3 database/sample_sqlite.db -cmd \"PRAGMA table_info(student);\" .exit"
   ]
  },
  {
   "cell_type": "markdown",
   "metadata": {},
   "source": [
    "Table student is created with same schema as Class Student\n",
    "\n",
    "\n",
    "<br>\n",
    "\n",
    "___\n",
    "\n",
    "## Table Insertion\n",
    "\n",
    "There are several method to insert new Rows to the table"
   ]
  },
  {
   "cell_type": "code",
   "execution_count": 25,
   "metadata": {},
   "outputs": [
    {
     "data": {
      "text/plain": [
       "<Student: 3>"
      ]
     },
     "execution_count": 25,
     "metadata": {},
     "output_type": "execute_result"
    }
   ],
   "source": [
    "# Insert new record using Object Creation with save() method\n",
    "row1 = Student(name='John', age=20)\n",
    "row1.save()\n",
    "\n",
    "# Insert new record using Model Object with insert() method and execute()\n",
    "row2 = Student.insert(name='Bob', age=22)\n",
    "row2.execute()\n",
    "\n",
    "# Insert new record using Model Object with create() method\n",
    "Student.create(name='Jane', age=21)"
   ]
  },
  {
   "cell_type": "markdown",
   "metadata": {},
   "source": [
    "### Bulk Inserts\n",
    "In order to use multiple rows at once in the table, Peewee provides two methods: **bulk_create** and **insert_many**."
   ]
  },
  {
   "cell_type": "code",
   "execution_count": 27,
   "metadata": {},
   "outputs": [],
   "source": [
    "# Bulk Insert using Model.bulk_create()\n",
    "a = Student(name='Alice', age=20)\n",
    "b = Student(name='Ben', age=26)\n",
    "Student.bulk_create([a, b])"
   ]
  },
  {
   "cell_type": "code",
   "execution_count": 28,
   "metadata": {},
   "outputs": [
    {
     "data": {
      "text/plain": [
       "7"
      ]
     },
     "execution_count": 28,
     "metadata": {},
     "output_type": "execute_result"
    }
   ],
   "source": [
    "# Bulk Insert using Model.insert_many()\n",
    "rows = [\n",
    "    {'name': 'Cindy', 'age': 25}, \n",
    "    {'name': 'David', 'age': 24}\n",
    "]\n",
    "Student.insert_many(rows).execute()"
   ]
  },
  {
   "cell_type": "markdown",
   "metadata": {},
   "source": [
    "You can check now that those rows are already inserted"
   ]
  },
  {
   "cell_type": "code",
   "execution_count": 29,
   "metadata": {},
   "outputs": [
    {
     "name": "stdout",
     "output_type": "stream",
     "text": [
      "id|name|age\n",
      "1|John|20\n",
      "2|Bob|22\n",
      "3|Jane|21\n",
      "4|Alice|20\n",
      "5|Ben|26\n",
      "6|Cindy|25\n",
      "7|David|24\n"
     ]
    }
   ],
   "source": [
    "!sqlite3 database/sample_sqlite.db \".headers on\" \"SELECT * FROM student;\""
   ]
  },
  {
   "cell_type": "markdown",
   "metadata": {},
   "source": [
    "## Query Data using Peewee ORM"
   ]
  },
  {
   "cell_type": "code",
   "execution_count": 35,
   "metadata": {},
   "outputs": [
    {
     "data": {
      "text/html": [
       "<div>\n",
       "<style scoped>\n",
       "    .dataframe tbody tr th:only-of-type {\n",
       "        vertical-align: middle;\n",
       "    }\n",
       "\n",
       "    .dataframe tbody tr th {\n",
       "        vertical-align: top;\n",
       "    }\n",
       "\n",
       "    .dataframe thead th {\n",
       "        text-align: right;\n",
       "    }\n",
       "</style>\n",
       "<table border=\"1\" class=\"dataframe\">\n",
       "  <thead>\n",
       "    <tr style=\"text-align: right;\">\n",
       "      <th></th>\n",
       "      <th>0</th>\n",
       "    </tr>\n",
       "  </thead>\n",
       "  <tbody>\n",
       "    <tr>\n",
       "      <th>0</th>\n",
       "      <td>1</td>\n",
       "    </tr>\n",
       "    <tr>\n",
       "      <th>1</th>\n",
       "      <td>2</td>\n",
       "    </tr>\n",
       "    <tr>\n",
       "      <th>2</th>\n",
       "      <td>3</td>\n",
       "    </tr>\n",
       "    <tr>\n",
       "      <th>3</th>\n",
       "      <td>4</td>\n",
       "    </tr>\n",
       "    <tr>\n",
       "      <th>4</th>\n",
       "      <td>5</td>\n",
       "    </tr>\n",
       "    <tr>\n",
       "      <th>5</th>\n",
       "      <td>6</td>\n",
       "    </tr>\n",
       "    <tr>\n",
       "      <th>6</th>\n",
       "      <td>7</td>\n",
       "    </tr>\n",
       "  </tbody>\n",
       "</table>\n",
       "</div>"
      ],
      "text/plain": [
       "   0\n",
       "0  1\n",
       "1  2\n",
       "2  3\n",
       "3  4\n",
       "4  5\n",
       "5  6\n",
       "6  7"
      ]
     },
     "execution_count": 35,
     "metadata": {},
     "output_type": "execute_result"
    }
   ],
   "source": [
    "# Select all data from Student table to dataframe\n",
    "pd.DataFrame(list(Student.select()))"
   ]
  },
  {
   "cell_type": "code",
   "execution_count": 21,
   "metadata": {},
   "outputs": [
    {
     "data": {
      "text/plain": [
       "True"
      ]
     },
     "execution_count": 21,
     "metadata": {},
     "output_type": "execute_result"
    }
   ],
   "source": [
    "sqlite_db.close()"
   ]
  },
  {
   "cell_type": "code",
   "execution_count": 3,
   "metadata": {},
   "outputs": [
    {
     "data": {
      "text/plain": [
       "['anagrams',\n",
       " 'anscombe',\n",
       " 'attention',\n",
       " 'brain_networks',\n",
       " 'car_crashes',\n",
       " 'diamonds',\n",
       " 'dots',\n",
       " 'dowjones',\n",
       " 'exercise',\n",
       " 'flights',\n",
       " 'fmri',\n",
       " 'geyser',\n",
       " 'glue',\n",
       " 'healthexp',\n",
       " 'iris',\n",
       " 'mpg',\n",
       " 'penguins',\n",
       " 'planets',\n",
       " 'seaice',\n",
       " 'taxis',\n",
       " 'tips',\n",
       " 'titanic']"
      ]
     },
     "execution_count": 3,
     "metadata": {},
     "output_type": "execute_result"
    }
   ],
   "source": [
    "sns.get_dataset_names()"
   ]
  },
  {
   "cell_type": "code",
   "execution_count": 4,
   "metadata": {},
   "outputs": [
    {
     "data": {
      "text/html": [
       "<div>\n",
       "<style scoped>\n",
       "    .dataframe tbody tr th:only-of-type {\n",
       "        vertical-align: middle;\n",
       "    }\n",
       "\n",
       "    .dataframe tbody tr th {\n",
       "        vertical-align: top;\n",
       "    }\n",
       "\n",
       "    .dataframe thead th {\n",
       "        text-align: right;\n",
       "    }\n",
       "</style>\n",
       "<table border=\"1\" class=\"dataframe\">\n",
       "  <thead>\n",
       "    <tr style=\"text-align: right;\">\n",
       "      <th></th>\n",
       "      <th>Year</th>\n",
       "      <th>Country</th>\n",
       "      <th>Spending_USD</th>\n",
       "      <th>Life_Expectancy</th>\n",
       "    </tr>\n",
       "  </thead>\n",
       "  <tbody>\n",
       "    <tr>\n",
       "      <th>0</th>\n",
       "      <td>1970</td>\n",
       "      <td>Germany</td>\n",
       "      <td>252.311</td>\n",
       "      <td>70.6</td>\n",
       "    </tr>\n",
       "    <tr>\n",
       "      <th>1</th>\n",
       "      <td>1970</td>\n",
       "      <td>France</td>\n",
       "      <td>192.143</td>\n",
       "      <td>72.2</td>\n",
       "    </tr>\n",
       "    <tr>\n",
       "      <th>2</th>\n",
       "      <td>1970</td>\n",
       "      <td>Great Britain</td>\n",
       "      <td>123.993</td>\n",
       "      <td>71.9</td>\n",
       "    </tr>\n",
       "    <tr>\n",
       "      <th>3</th>\n",
       "      <td>1970</td>\n",
       "      <td>Japan</td>\n",
       "      <td>150.437</td>\n",
       "      <td>72.0</td>\n",
       "    </tr>\n",
       "    <tr>\n",
       "      <th>4</th>\n",
       "      <td>1970</td>\n",
       "      <td>USA</td>\n",
       "      <td>326.961</td>\n",
       "      <td>70.9</td>\n",
       "    </tr>\n",
       "    <tr>\n",
       "      <th>...</th>\n",
       "      <td>...</td>\n",
       "      <td>...</td>\n",
       "      <td>...</td>\n",
       "      <td>...</td>\n",
       "    </tr>\n",
       "    <tr>\n",
       "      <th>269</th>\n",
       "      <td>2020</td>\n",
       "      <td>Germany</td>\n",
       "      <td>6938.983</td>\n",
       "      <td>81.1</td>\n",
       "    </tr>\n",
       "    <tr>\n",
       "      <th>270</th>\n",
       "      <td>2020</td>\n",
       "      <td>France</td>\n",
       "      <td>5468.418</td>\n",
       "      <td>82.3</td>\n",
       "    </tr>\n",
       "    <tr>\n",
       "      <th>271</th>\n",
       "      <td>2020</td>\n",
       "      <td>Great Britain</td>\n",
       "      <td>5018.700</td>\n",
       "      <td>80.4</td>\n",
       "    </tr>\n",
       "    <tr>\n",
       "      <th>272</th>\n",
       "      <td>2020</td>\n",
       "      <td>Japan</td>\n",
       "      <td>4665.641</td>\n",
       "      <td>84.7</td>\n",
       "    </tr>\n",
       "    <tr>\n",
       "      <th>273</th>\n",
       "      <td>2020</td>\n",
       "      <td>USA</td>\n",
       "      <td>11859.179</td>\n",
       "      <td>77.0</td>\n",
       "    </tr>\n",
       "  </tbody>\n",
       "</table>\n",
       "<p>274 rows × 4 columns</p>\n",
       "</div>"
      ],
      "text/plain": [
       "     Year        Country  Spending_USD  Life_Expectancy\n",
       "0    1970        Germany       252.311             70.6\n",
       "1    1970         France       192.143             72.2\n",
       "2    1970  Great Britain       123.993             71.9\n",
       "3    1970          Japan       150.437             72.0\n",
       "4    1970            USA       326.961             70.9\n",
       "..    ...            ...           ...              ...\n",
       "269  2020        Germany      6938.983             81.1\n",
       "270  2020         France      5468.418             82.3\n",
       "271  2020  Great Britain      5018.700             80.4\n",
       "272  2020          Japan      4665.641             84.7\n",
       "273  2020            USA     11859.179             77.0\n",
       "\n",
       "[274 rows x 4 columns]"
      ]
     },
     "execution_count": 4,
     "metadata": {},
     "output_type": "execute_result"
    }
   ],
   "source": [
    "sns.load_dataset('healthexp')"
   ]
  },
  {
   "cell_type": "code",
   "execution_count": null,
   "metadata": {},
   "outputs": [],
   "source": []
  }
 ],
 "metadata": {
  "kernelspec": {
   "display_name": "Python 3.9.5 ('base')",
   "language": "python",
   "name": "python3"
  },
  "language_info": {
   "codemirror_mode": {
    "name": "ipython",
    "version": 3
   },
   "file_extension": ".py",
   "mimetype": "text/x-python",
   "name": "python",
   "nbconvert_exporter": "python",
   "pygments_lexer": "ipython3",
   "version": "3.9.5"
  },
  "orig_nbformat": 4,
  "vscode": {
   "interpreter": {
    "hash": "bbe054f82611da69a236c20d185807936886c22cfa3db0ebeb109fb4db8ace57"
   }
  }
 },
 "nbformat": 4,
 "nbformat_minor": 2
}
