{
 "cells": [
  {
   "cell_type": "markdown",
   "metadata": {},
   "source": [
    "# ORM using Peewee\n",
    "\n",
    "ORM (Object Relational Mapper)  is a technique used in creating a \"bridge\" between object-oriented programs and, in most cases, relational databases.\n",
    "\n",
    "Put another way, you can see the ORM as the layer that connects object oriented programming (OOP) to relational databases.\n",
    "\n",
    "When interacting with a database using OOP languages, you'll have to perform different operations like creating, reading, updating, and deleting (CRUD) data from a database. By design, you use SQL for performing these operations in relational databases.\n",
    "\n",
    "While using SQL for this purpose isn't necessarily a bad idea, the ORM and ORM tools help simplify the interaction between relational databases and different OOP languages.\n",
    "\n",
    "## Peewee\n",
    "\n",
    "Peewee is a simple and small ORM. It has few (but expressive) concepts, making it easy to learn and intuitive to use.\n",
    "\n",
    "* a small, expressive ORM\n",
    "* python 2.7+ and 3.4+ (developed with 3.6)\n",
    "* supports **sqlite**, **mysql**, **postgresql** and **cockroachdb**\n",
    "* tons of extensions"
   ]
  },
  {
   "cell_type": "code",
   "execution_count": 2,
   "metadata": {},
   "outputs": [],
   "source": [
    "# Import Library\n",
    "from peewee import (\n",
    "    SqliteDatabase, \n",
    "    Model, \n",
    "    CharField, \n",
    "    DateTimeField)\n",
    "import pandas as pd\n",
    "import seaborn as sns"
   ]
  },
  {
   "cell_type": "code",
   "execution_count": null,
   "metadata": {},
   "outputs": [],
   "source": []
  }
 ],
 "metadata": {
  "kernelspec": {
   "display_name": "Python 3.9.5 ('base')",
   "language": "python",
   "name": "python3"
  },
  "language_info": {
   "codemirror_mode": {
    "name": "ipython",
    "version": 3
   },
   "file_extension": ".py",
   "mimetype": "text/x-python",
   "name": "python",
   "nbconvert_exporter": "python",
   "pygments_lexer": "ipython3",
   "version": "3.9.5"
  },
  "orig_nbformat": 4,
  "vscode": {
   "interpreter": {
    "hash": "bbe054f82611da69a236c20d185807936886c22cfa3db0ebeb109fb4db8ace57"
   }
  }
 },
 "nbformat": 4,
 "nbformat_minor": 2
}
